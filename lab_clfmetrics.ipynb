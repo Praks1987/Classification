{
 "cells": [
  {
   "cell_type": "markdown",
   "metadata": {},
   "source": [
    "# Classification, Probabilities, and the Confusion Matrix"
   ]
  },
  {
   "cell_type": "code",
   "execution_count": 5,
   "metadata": {
    "collapsed": true
   },
   "outputs": [],
   "source": [
    "%matplotlib inline\n",
    "import numpy as np\n",
    "import scipy as sp\n",
    "import matplotlib as mpl\n",
    "import matplotlib.cm as cm\n",
    "import matplotlib.pyplot as plt\n",
    "import pandas as pd\n",
    "import seaborn.apionly as sns"
   ]
  },
  {
   "cell_type": "markdown",
   "metadata": {},
   "source": [
    "We are going to encapsulate some code into handy-dandy functions that we can use for easier model training using cross-validation"
   ]
  },
  {
   "cell_type": "code",
   "execution_count": 29,
   "metadata": {
    "collapsed": true
   },
   "outputs": [],
   "source": [
    "from sklearn.model_selection import GridSearchCV\n",
    "from sklearn.model_selection import train_test_split\n",
    "from sklearn.metrics import confusion_matrix\n",
    "def cv_optimize(clf, parameters, X, y, n_jobs=1, n_folds=5, score_func=None):\n",
    "    if score_func:\n",
    "        gs = GridSearchCV(clf, param_grid=parameters, cv=n_folds, n_jobs=n_jobs, scoring=score_func)\n",
    "    else:\n",
    "        gs = GridSearchCV(clf, param_grid=parameters, n_jobs=n_jobs, cv=n_folds)\n",
    "    gs.fit(X, y)\n",
    "    print(\"BEST\", gs.best_params_, gs.best_score_)\n",
    "    best = gs.best_estimator_\n",
    "    return best\n",
    "def do_classify(clf, parameters, indf, featurenames, targetname, target1val,mode=\"mask\", reuse_split=None, score_func=None, n_folds=5, n_jobs=1):\n",
    "    \"\"\"\n",
    "    Classification made simple (or is it more complex?)\n",
    "    THIS WORKS FOR 2 Class Classification problems only\n",
    "    parameters: parameter grid in the sklearn style\n",
    "    indf: dataframe you feed in\n",
    "    featurenames: list of columnames corresponding to features you want in your model\n",
    "    targetname: the column you want to use as target\n",
    "    target1val: the value of the \"targetname\" column\n",
    "    mode: mask or split. mask a boolean mask to choose train/test or\n",
    "        split a dictionary with keys Xtrain/Xtest/ytrain/ytest and values existing\n",
    "        training and test sets in the canonical form\n",
    "    reuse_split: the actual mask above or the actuall ditionary, depending upon which\n",
    "        modu you chose\n",
    "    score_func: this is from GridSearchCV\n",
    "    n_folds: cross val folds\n",
    "    n_jobs: mumber of processes to use in cross-validation\n",
    "    \n",
    "    We return classifier, and the train and test sets. We print accuracies\n",
    "    and the confusion matrix\n",
    "    \"\"\"\n",
    "    subdf=indf[featurenames]\n",
    "    X=subdf.values\n",
    "    y=(indf[targetname].values==target1val)*1\n",
    "    if mode==\"mask\":\n",
    "        print(\"using mask\")\n",
    "        mask=reuse_split\n",
    "        Xtrain, Xtest, ytrain, ytest = X[mask], X[~mask], y[mask], y[~mask]\n",
    "    else:\n",
    "        print(\"using reuse split\")\n",
    "        Xtrain, Xtest, ytrain, ytest = reuse_split['Xtrain'], reuse_split['Xtest'], reuse_split['ytrain'], reuse_split['ytest']\n",
    "    if parameters:\n",
    "        clf = cv_optimize(clf, parameters, Xtrain, ytrain, n_jobs=n_jobs, n_folds=n_folds, score_func=score_func)\n",
    "    clf=clf.fit(Xtrain, ytrain)\n",
    "    training_accuracy = clf.score(Xtrain, ytrain)\n",
    "    test_accuracy = clf.score(Xtest, ytest)\n",
    "    print(\"############# based on standard predict ################\")\n",
    "    print(\"Accuracy on training data: %0.2f\" % (training_accuracy))\n",
    "    print(\"Accuracy on test data:     %0.2f\" % (test_accuracy))\n",
    "    print(confusion_matrix(ytest, clf.predict(Xtest)))\n",
    "    print(\"########################################################\")\n",
    "    return clf, Xtrain, ytrain, Xtest, ytest"
   ]
  },
  {
   "cell_type": "code",
   "execution_count": 30,
   "metadata": {
    "collapsed": true
   },
   "outputs": [],
   "source": [
    "from matplotlib.colors import ListedColormap\n",
    "cmap_light = ListedColormap(['#FFAAAA', '#AAFFAA', '#AAAAFF'])\n",
    "cmap_bold = ListedColormap(['#FF0000', '#00FF00', '#0000FF'])\n",
    "cm = plt.cm.RdBu\n",
    "cm_bright = ListedColormap(['#FF0000', '#0000FF'])\n",
    "\n",
    "def points_plot(ax, Xtr, Xte, ytr, yte, clf, mesh=True, colorscale=cmap_light, cdiscrete=cmap_bold, alpha=0.3, psize=10, zfunc=False):\n",
    "    h = .02\n",
    "    X=np.concatenate((Xtr, Xte))\n",
    "    x_min, x_max = X[:, 0].min() - .5, X[:, 0].max() + .5\n",
    "    y_min, y_max = X[:, 1].min() - .5, X[:, 1].max() + .5\n",
    "    xx, yy = np.meshgrid(np.linspace(x_min, x_max, 100),\n",
    "                         np.linspace(y_min, y_max, 100))\n",
    "\n",
    "    #plt.figure(figsize=(10,6))\n",
    "    if mesh:\n",
    "        if zfunc:\n",
    "            p0 = clf.predict_proba(np.c_[xx.ravel(), yy.ravel()])[:, 0]\n",
    "            p1 = clf.predict_proba(np.c_[xx.ravel(), yy.ravel()])[:, 1]\n",
    "            Z=zfunc(p0, p1)\n",
    "        else:\n",
    "            Z = clf.predict(np.c_[xx.ravel(), yy.ravel()])\n",
    "        Z = Z.reshape(xx.shape)\n",
    "        plt.pcolormesh(xx, yy, Z, cmap=cmap_light, alpha=alpha, axes=ax)\n",
    "    ax.scatter(Xtr[:, 0], Xtr[:, 1], c=ytr-1, cmap=cmap_bold, s=psize, alpha=alpha,edgecolor=\"k\")\n",
    "    # and testing points\n",
    "    yact=clf.predict(Xte)\n",
    "    ax.scatter(Xte[:, 0], Xte[:, 1], c=yte-1, cmap=cmap_bold, alpha=alpha, marker=\"s\", s=psize+10)\n",
    "    ax.set_xlim(xx.min(), xx.max())\n",
    "    ax.set_ylim(yy.min(), yy.max())\n",
    "    return ax,xx,yy"
   ]
  },
  {
   "cell_type": "code",
   "execution_count": 31,
   "metadata": {
    "collapsed": true
   },
   "outputs": [],
   "source": [
    "def points_plot_prob(ax, Xtr, Xte, ytr, yte, clf, colorscale=cmap_light, cdiscrete=cmap_bold, ccolor=cm, psize=10, alpha=0.1, prob=True):\n",
    "    ax,xx,yy = points_plot(ax, Xtr, Xte, ytr, yte, clf, mesh=False, colorscale=colorscale, cdiscrete=cdiscrete, psize=psize, alpha=alpha) \n",
    "    if prob:\n",
    "        Z = clf.predict_proba(np.c_[xx.ravel(), yy.ravel()])[:, 1]\n",
    "    else:\n",
    "        Z = clf.decision_function(np.c_[xx.ravel(), yy.ravel()])\n",
    "    Z = Z.reshape(xx.shape)\n",
    "    plt.contourf(xx, yy, Z, cmap=ccolor, alpha=.2, axes=ax)\n",
    "    cs2 = plt.contour(xx, yy, Z, cmap=ccolor, alpha=.6, axes=ax)\n",
    "    plt.clabel(cs2, fmt = '%2.1f', colors = 'k', fontsize=14)\n",
    "    return ax "
   ]
  },
  {
   "cell_type": "markdown",
   "metadata": {},
   "source": [
    "## Setting up the data\n",
    "\n",
    "(I encountered this dataset in Conway, Drew, and John White. Machine learning for hackers. \" O'Reilly Media, Inc.\", 2012.)"
   ]
  },
  {
   "cell_type": "code",
   "execution_count": 32,
   "metadata": {
    "collapsed": false
   },
   "outputs": [
    {
     "data": {
      "text/html": [
       "<div>\n",
       "<style scoped>\n",
       "    .dataframe tbody tr th:only-of-type {\n",
       "        vertical-align: middle;\n",
       "    }\n",
       "\n",
       "    .dataframe tbody tr th {\n",
       "        vertical-align: top;\n",
       "    }\n",
       "\n",
       "    .dataframe thead th {\n",
       "        text-align: right;\n",
       "    }\n",
       "</style>\n",
       "<table border=\"1\" class=\"dataframe\">\n",
       "  <thead>\n",
       "    <tr style=\"text-align: right;\">\n",
       "      <th></th>\n",
       "      <th>Gender</th>\n",
       "      <th>Height</th>\n",
       "      <th>Weight</th>\n",
       "    </tr>\n",
       "  </thead>\n",
       "  <tbody>\n",
       "    <tr>\n",
       "      <th>0</th>\n",
       "      <td>Male</td>\n",
       "      <td>73.847017</td>\n",
       "      <td>241.893563</td>\n",
       "    </tr>\n",
       "    <tr>\n",
       "      <th>1</th>\n",
       "      <td>Male</td>\n",
       "      <td>68.781904</td>\n",
       "      <td>162.310473</td>\n",
       "    </tr>\n",
       "    <tr>\n",
       "      <th>2</th>\n",
       "      <td>Male</td>\n",
       "      <td>74.110105</td>\n",
       "      <td>212.740856</td>\n",
       "    </tr>\n",
       "    <tr>\n",
       "      <th>3</th>\n",
       "      <td>Male</td>\n",
       "      <td>71.730978</td>\n",
       "      <td>220.042470</td>\n",
       "    </tr>\n",
       "    <tr>\n",
       "      <th>4</th>\n",
       "      <td>Male</td>\n",
       "      <td>69.881796</td>\n",
       "      <td>206.349801</td>\n",
       "    </tr>\n",
       "  </tbody>\n",
       "</table>\n",
       "</div>"
      ],
      "text/plain": [
       "  Gender     Height      Weight\n",
       "0   Male  73.847017  241.893563\n",
       "1   Male  68.781904  162.310473\n",
       "2   Male  74.110105  212.740856\n",
       "3   Male  71.730978  220.042470\n",
       "4   Male  69.881796  206.349801"
      ]
     },
     "execution_count": 32,
     "metadata": {},
     "output_type": "execute_result"
    }
   ],
   "source": [
    "dfhw=pd.read_csv(\"data/01_heights_weights_genders.csv\")\n",
    "dfhw.head()"
   ]
  },
  {
   "cell_type": "markdown",
   "metadata": {},
   "source": [
    "We sample 500 points from 10,000, since we actually want to see trends clearly on the plots"
   ]
  },
  {
   "cell_type": "code",
   "execution_count": 33,
   "metadata": {
    "collapsed": false
   },
   "outputs": [
    {
     "data": {
      "text/plain": [
       "(489, 0.489)"
      ]
     },
     "execution_count": 33,
     "metadata": {},
     "output_type": "execute_result"
    }
   ],
   "source": [
    "df=dfhw.sample(1000, replace=False , random_state=1983)\n",
    "np.sum(df.Gender==\"Male\") ,np.mean(df.Gender==\"Male\")"
   ]
  },
  {
   "cell_type": "code",
   "execution_count": 34,
   "metadata": {},
   "outputs": [
    {
     "data": {
      "text/plain": [
       "(1000, 3)"
      ]
     },
     "execution_count": 34,
     "metadata": {},
     "output_type": "execute_result"
    }
   ],
   "source": [
    "df.shape"
   ]
  },
  {
   "cell_type": "markdown",
   "metadata": {},
   "source": [
    "We split the data into training and test sets...and setup a mask so we can reuse these splits later"
   ]
  },
  {
   "cell_type": "code",
   "execution_count": 35,
   "metadata": {
    "collapsed": false
   },
   "outputs": [
    {
     "name": "stderr",
     "output_type": "stream",
     "text": [
      "/opt/conda/lib/python3.7/site-packages/sklearn/model_selection/_split.py:2179: FutureWarning: From version 0.21, test_size will always complement train_size unless both are specified.\n",
      "  FutureWarning)\n"
     ]
    },
    {
     "data": {
      "text/plain": [
       "[372,\n",
       " 931,\n",
       " 404,\n",
       " 734,\n",
       " 959,\n",
       " 671,\n",
       " 928,\n",
       " 195,\n",
       " 511,\n",
       " 303,\n",
       " 79,\n",
       " 979,\n",
       " 898,\n",
       " 887,\n",
       " 104,\n",
       " 367,\n",
       " 758,\n",
       " 744,\n",
       " 86,\n",
       " 903,\n",
       " 636,\n",
       " 40,\n",
       " 662,\n",
       " 51,\n",
       " 59,\n",
       " 565,\n",
       " 476,\n",
       " 378,\n",
       " 397,\n",
       " 296,\n",
       " 50,\n",
       " 84,\n",
       " 185,\n",
       " 136,\n",
       " 442,\n",
       " 117,\n",
       " 225,\n",
       " 939,\n",
       " 706,\n",
       " 258,\n",
       " 417,\n",
       " 331,\n",
       " 171,\n",
       " 916,\n",
       " 681,\n",
       " 348,\n",
       " 987,\n",
       " 423,\n",
       " 139,\n",
       " 468,\n",
       " 426,\n",
       " 883,\n",
       " 619,\n",
       " 688,\n",
       " 388,\n",
       " 846,\n",
       " 230,\n",
       " 598,\n",
       " 877,\n",
       " 746,\n",
       " 697,\n",
       " 751,\n",
       " 28,\n",
       " 806,\n",
       " 626,\n",
       " 674,\n",
       " 48,\n",
       " 311,\n",
       " 54,\n",
       " 481,\n",
       " 43,\n",
       " 364,\n",
       " 325,\n",
       " 950,\n",
       " 866,\n",
       " 41,\n",
       " 514,\n",
       " 819,\n",
       " 176,\n",
       " 498,\n",
       " 69,\n",
       " 486,\n",
       " 449,\n",
       " 201,\n",
       " 22,\n",
       " 168,\n",
       " 102,\n",
       " 189,\n",
       " 895,\n",
       " 457,\n",
       " 89,\n",
       " 332,\n",
       " 17,\n",
       " 633,\n",
       " 922,\n",
       " 455,\n",
       " 81,\n",
       " 613,\n",
       " 470,\n",
       " 553,\n",
       " 127,\n",
       " 932,\n",
       " 350,\n",
       " 516,\n",
       " 794,\n",
       " 465,\n",
       " 547,\n",
       " 585,\n",
       " 172,\n",
       " 917,\n",
       " 170,\n",
       " 273,\n",
       " 834,\n",
       " 384,\n",
       " 971,\n",
       " 926,\n",
       " 308,\n",
       " 196,\n",
       " 190,\n",
       " 328,\n",
       " 432,\n",
       " 44,\n",
       " 868,\n",
       " 603,\n",
       " 760,\n",
       " 123,\n",
       " 52,\n",
       " 634,\n",
       " 530,\n",
       " 615,\n",
       " 269,\n",
       " 850,\n",
       " 915,\n",
       " 938,\n",
       " 837,\n",
       " 853,\n",
       " 579,\n",
       " 214,\n",
       " 740,\n",
       " 121,\n",
       " 812,\n",
       " 989,\n",
       " 777,\n",
       " 899,\n",
       " 861,\n",
       " 646,\n",
       " 157,\n",
       " 990,\n",
       " 126,\n",
       " 349,\n",
       " 600,\n",
       " 748,\n",
       " 657,\n",
       " 37,\n",
       " 571,\n",
       " 660,\n",
       " 505,\n",
       " 184,\n",
       " 978,\n",
       " 285,\n",
       " 702,\n",
       " 471,\n",
       " 318,\n",
       " 320,\n",
       " 638,\n",
       " 914,\n",
       " 784,\n",
       " 309,\n",
       " 440,\n",
       " 92,\n",
       " 588,\n",
       " 240,\n",
       " 370,\n",
       " 873,\n",
       " 377,\n",
       " 12,\n",
       " 545,\n",
       " 369,\n",
       " 263,\n",
       " 373,\n",
       " 277,\n",
       " 969,\n",
       " 506,\n",
       " 375,\n",
       " 620,\n",
       " 464,\n",
       " 451,\n",
       " 942,\n",
       " 265,\n",
       " 682,\n",
       " 847,\n",
       " 642,\n",
       " 570,\n",
       " 639,\n",
       " 494,\n",
       " 692,\n",
       " 435,\n",
       " 587,\n",
       " 801,\n",
       " 95,\n",
       " 355,\n",
       " 581,\n",
       " 469,\n",
       " 813,\n",
       " 534,\n",
       " 548,\n",
       " 386,\n",
       " 444,\n",
       " 872,\n",
       " 393,\n",
       " 433,\n",
       " 573,\n",
       " 452,\n",
       " 820,\n",
       " 188,\n",
       " 663,\n",
       " 956,\n",
       " 23,\n",
       " 602,\n",
       " 416,\n",
       " 474,\n",
       " 221,\n",
       " 249,\n",
       " 787,\n",
       " 593,\n",
       " 652,\n",
       " 413,\n",
       " 65,\n",
       " 338,\n",
       " 400,\n",
       " 833,\n",
       " 786,\n",
       " 962,\n",
       " 756,\n",
       " 597,\n",
       " 406,\n",
       " 911,\n",
       " 860,\n",
       " 421,\n",
       " 713,\n",
       " 197,\n",
       " 335,\n",
       " 408,\n",
       " 701,\n",
       " 966,\n",
       " 994,\n",
       " 71,\n",
       " 824,\n",
       " 582,\n",
       " 566,\n",
       " 341,\n",
       " 224,\n",
       " 672,\n",
       " 133,\n",
       " 11,\n",
       " 791,\n",
       " 605,\n",
       " 431,\n",
       " 849,\n",
       " 76,\n",
       " 906,\n",
       " 205,\n",
       " 576,\n",
       " 580,\n",
       " 970,\n",
       " 306,\n",
       " 217,\n",
       " 66,\n",
       " 401,\n",
       " 936,\n",
       " 676,\n",
       " 723,\n",
       " 984,\n",
       " 242,\n",
       " 999,\n",
       " 524,\n",
       " 385,\n",
       " 712,\n",
       " 310,\n",
       " 107,\n",
       " 475,\n",
       " 724,\n",
       " 658,\n",
       " 461,\n",
       " 859,\n",
       " 34,\n",
       " 42,\n",
       " 556,\n",
       " 719,\n",
       " 18,\n",
       " 670,\n",
       " 700,\n",
       " 749,\n",
       " 952,\n",
       " 900,\n",
       " 703,\n",
       " 632,\n",
       " 519,\n",
       " 492,\n",
       " 599,\n",
       " 750,\n",
       " 75,\n",
       " 68,\n",
       " 30,\n",
       " 91,\n",
       " 292,\n",
       " 512,\n",
       " 238,\n",
       " 624,\n",
       " 609,\n",
       " 156,\n",
       " 347,\n",
       " 880,\n",
       " 222,\n",
       " 838,\n",
       " 885,\n",
       " 616,\n",
       " 226,\n",
       " 844,\n",
       " 539,\n",
       " 677,\n",
       " 991,\n",
       " 234,\n",
       " 288,\n",
       " 822,\n",
       " 118,\n",
       " 827,\n",
       " 977,\n",
       " 282,\n",
       " 992,\n",
       " 835,\n",
       " 610,\n",
       " 260,\n",
       " 993,\n",
       " 327,\n",
       " 707,\n",
       " 485,\n",
       " 182,\n",
       " 262,\n",
       " 649,\n",
       " 138,\n",
       " 857,\n",
       " 403,\n",
       " 546,\n",
       " 531,\n",
       " 716,\n",
       " 316,\n",
       " 284,\n",
       " 239,\n",
       " 36,\n",
       " 419,\n",
       " 995,\n",
       " 443,\n",
       " 735,\n",
       " 772,\n",
       " 80,\n",
       " 261,\n",
       " 289,\n",
       " 354,\n",
       " 112,\n",
       " 57,\n",
       " 818,\n",
       " 4,\n",
       " 948,\n",
       " 855,\n",
       " 934,\n",
       " 941,\n",
       " 27,\n",
       " 896,\n",
       " 271,\n",
       " 257,\n",
       " 405,\n",
       " 745,\n",
       " 775,\n",
       " 708,\n",
       " 542,\n",
       " 130,\n",
       " 160,\n",
       " 589,\n",
       " 606,\n",
       " 299,\n",
       " 730,\n",
       " 111,\n",
       " 815,\n",
       " 232,\n",
       " 929,\n",
       " 437,\n",
       " 20,\n",
       " 125,\n",
       " 810,\n",
       " 297,\n",
       " 281,\n",
       " 814,\n",
       " 251,\n",
       " 344,\n",
       " 374,\n",
       " 161,\n",
       " 841,\n",
       " 396,\n",
       " 769]"
      ]
     },
     "execution_count": 35,
     "metadata": {},
     "output_type": "execute_result"
    }
   ],
   "source": [
    "itrain, itest = train_test_split(range(df.shape[0]), train_size=0.6 , random_state=1983)\n",
    "itest"
   ]
  },
  {
   "cell_type": "code",
   "execution_count": 36,
   "metadata": {
    "collapsed": false
   },
   "outputs": [
    {
     "data": {
      "text/plain": [
       "array([ True,  True,  True,  True, False,  True,  True,  True,  True,\n",
       "        True])"
      ]
     },
     "execution_count": 36,
     "metadata": {},
     "output_type": "execute_result"
    }
   ],
   "source": [
    "mask=np.ones(df.shape[0], dtype='int')\n",
    "mask[itrain]=1\n",
    "mask[itest]=0\n",
    "mask = (mask==1)  # true training set and mask fail test set\n",
    "mask[:10]"
   ]
  },
  {
   "cell_type": "markdown",
   "metadata": {},
   "source": [
    "## Logistic regression\n",
    "\n",
    "\n",
    "$$\n",
    "\\renewcommand{\\like}{{\\cal L}}\n",
    "\\renewcommand{\\loglike}{{\\ell}}\n",
    "\\renewcommand{\\err}{{\\cal E}}\n",
    "\\renewcommand{\\dat}{{\\cal D}}\n",
    "\\renewcommand{\\hyp}{{\\cal H}}\n",
    "\\renewcommand{\\Ex}[2]{E_{#1}[#2]}\n",
    "\\renewcommand{\\x}{{\\mathbf x}}\n",
    "\\renewcommand{\\v}[1]{{\\mathbf #1}}\n",
    "$$\n",
    "\n",
    "\n",
    "Previously, we saw the loss for Logistic regression and noted that it is a loss for probability estimation...and not a loss for making decisions. We'll go into these dual losses soon..\n",
    "\n",
    "$$R_{\\cal{D}}(h(x)) = -\\loglike = -log \\like = - log(P(y|\\v{x},\\v{w})).$$\n",
    "\n",
    "\n",
    "Thus\n",
    "\n",
    "\\begin{eqnarray*}\n",
    "R_{\\cal{D}}(h(x)) &=& -log\\left(\\prod_{y_i \\in \\cal{D}} h(\\v{w}\\cdot\\v{x_i})^{y_i} \\left(1 - h(\\v{w}\\cdot\\v{x_i}) \\right)^{(1-y_i)}\\right)\\\\\n",
    "                  &=& -\\sum_{y_i \\in \\cal{D}} log\\left(h(\\v{w}\\cdot\\v{x_i})^{y_i} \\left(1 - h(\\v{w}\\cdot\\v{x_i}) \\right)^{(1-y_i)}\\right)\\\\                  \n",
    "                  &=& -\\sum_{y_i \\in \\cal{D}} log\\,h(\\v{w}\\cdot\\v{x_i})^{y_i} + log\\,\\left(1 - h(\\v{w}\\cdot\\v{x_i}) \\right)^{(1-y_i)}\\\\\n",
    "                  &=& - \\sum_{y_i \\in \\cal{D}} \\left ( y_i log(h(\\v{w}\\cdot\\v{x})) + ( 1 - y_i) log(1 - h(\\v{w}\\cdot\\v{x})) \\right )\n",
    "\\end{eqnarray*}\n",
    "\n",
    "where\n",
    "\n",
    "$$h(z) = \\frac{1}{1 + e^{-z}}.$$\n",
    "\n"
   ]
  },
  {
   "cell_type": "code",
   "execution_count": 37,
   "metadata": {},
   "outputs": [],
   "source": [
    "from sklearn.linear_model import LogisticRegression\n",
    "lr = LogisticRegression\n",
    "dfpredictor = df[['Height','Weight']]\n",
    "response = 1*(df['Gender']=='Male')\n",
    "dftrain ,dftest = dfpredictor[mask], dfpredictor[~mask]\n",
    "resptrain ,resptest = dfpredictor[mask], dfpredictor[~mask]"
   ]
  },
  {
   "cell_type": "code",
   "execution_count": 38,
   "metadata": {},
   "outputs": [
    {
     "ename": "TypeError",
     "evalue": "fit() missing 1 required positional argument: 'y'",
     "output_type": "error",
     "traceback": [
      "\u001b[0;31m---------------------------------------------------------------------------\u001b[0m",
      "\u001b[0;31mTypeError\u001b[0m                                 Traceback (most recent call last)",
      "\u001b[0;32m<ipython-input-38-fc616eeeabcc>\u001b[0m in \u001b[0;36m<module>\u001b[0;34m\u001b[0m\n\u001b[0;32m----> 1\u001b[0;31m \u001b[0mlr\u001b[0m\u001b[0;34m.\u001b[0m\u001b[0mfit\u001b[0m\u001b[0;34m(\u001b[0m\u001b[0mdftrain\u001b[0m\u001b[0;34m,\u001b[0m \u001b[0mresptrain\u001b[0m\u001b[0;34m)\u001b[0m\u001b[0;34m\u001b[0m\u001b[0;34m\u001b[0m\u001b[0m\n\u001b[0m\u001b[1;32m      2\u001b[0m \u001b[0mlr\u001b[0m\u001b[0;34m.\u001b[0m\u001b[0mscore\u001b[0m\u001b[0;34m(\u001b[0m\u001b[0mdftrain\u001b[0m \u001b[0;34m,\u001b[0m \u001b[0mresptrain\u001b[0m\u001b[0;34m)\u001b[0m \u001b[0;34m,\u001b[0m \u001b[0mlr\u001b[0m\u001b[0;34m.\u001b[0m\u001b[0mscore\u001b[0m\u001b[0;34m(\u001b[0m\u001b[0mdftest\u001b[0m\u001b[0;34m,\u001b[0m \u001b[0mresptest\u001b[0m\u001b[0;34m)\u001b[0m\u001b[0;34m\u001b[0m\u001b[0;34m\u001b[0m\u001b[0m\n",
      "\u001b[0;31mTypeError\u001b[0m: fit() missing 1 required positional argument: 'y'"
     ]
    }
   ],
   "source": [
    "lr.fit(dftrain, resptrain)\n",
    "lr.score(dftrain , resptrain) , lr.score(dftest, resptest)"
   ]
  },
  {
   "cell_type": "code",
   "execution_count": 39,
   "metadata": {},
   "outputs": [
    {
     "ename": "TypeError",
     "evalue": "predict() missing 1 required positional argument: 'X'",
     "output_type": "error",
     "traceback": [
      "\u001b[0;31m---------------------------------------------------------------------------\u001b[0m",
      "\u001b[0;31mTypeError\u001b[0m                                 Traceback (most recent call last)",
      "\u001b[0;32m<ipython-input-39-2f6ff1242315>\u001b[0m in \u001b[0;36m<module>\u001b[0;34m\u001b[0m\n\u001b[0;32m----> 1\u001b[0;31m \u001b[0mlr\u001b[0m\u001b[0;34m.\u001b[0m\u001b[0mpredict\u001b[0m\u001b[0;34m(\u001b[0m\u001b[0mdftrain\u001b[0m\u001b[0;34m)\u001b[0m\u001b[0;34m\u001b[0m\u001b[0;34m\u001b[0m\u001b[0m\n\u001b[0m",
      "\u001b[0;31mTypeError\u001b[0m: predict() missing 1 required positional argument: 'X'"
     ]
    }
   ],
   "source": [
    "lr.predict(dftrain)"
   ]
  },
  {
   "cell_type": "code",
   "execution_count": 40,
   "metadata": {},
   "outputs": [
    {
     "ename": "TypeError",
     "evalue": "accuracy_score() missing 1 required positional argument: 'y_pred'",
     "output_type": "error",
     "traceback": [
      "\u001b[0;31m---------------------------------------------------------------------------\u001b[0m",
      "\u001b[0;31mTypeError\u001b[0m                                 Traceback (most recent call last)",
      "\u001b[0;32m<ipython-input-40-061628cfe869>\u001b[0m in \u001b[0;36m<module>\u001b[0;34m\u001b[0m\n\u001b[1;32m      1\u001b[0m \u001b[0;32mfrom\u001b[0m \u001b[0msklearn\u001b[0m\u001b[0;34m.\u001b[0m\u001b[0mmetrics\u001b[0m \u001b[0;32mimport\u001b[0m \u001b[0maccuracy_score\u001b[0m\u001b[0;34m\u001b[0m\u001b[0;34m\u001b[0m\u001b[0m\n\u001b[0;32m----> 2\u001b[0;31m \u001b[0maccuracy_score\u001b[0m\u001b[0;34m(\u001b[0m\u001b[0mresptest\u001b[0m \u001b[0;34m,\u001b[0m \u001b[0;34m)\u001b[0m\u001b[0;34m\u001b[0m\u001b[0;34m\u001b[0m\u001b[0m\n\u001b[0m",
      "\u001b[0;31mTypeError\u001b[0m: accuracy_score() missing 1 required positional argument: 'y_pred'"
     ]
    }
   ],
   "source": [
    "from sklearn.metrics import accuracy_score\n",
    "accuracy_score(resptest , )"
   ]
  },
  {
   "cell_type": "markdown",
   "metadata": {},
   "source": [
    "Notice that its L2 regularized.... by default"
   ]
  },
  {
   "cell_type": "code",
   "execution_count": 41,
   "metadata": {
    "collapsed": false
   },
   "outputs": [
    {
     "name": "stdout",
     "output_type": "stream",
     "text": [
      "using mask\n",
      "BEST {'C': 0.01} 0.92\n",
      "############# based on standard predict ################\n",
      "Accuracy on training data: 0.92\n",
      "Accuracy on test data:     0.89\n",
      "[[177  21]\n",
      " [ 22 180]]\n",
      "########################################################\n"
     ]
    }
   ],
   "source": [
    "from sklearn.linear_model import LogisticRegression\n",
    "parameters = {\"C\": [0.001, 0.01, 0.1, 1, 10, 100, 1000, 10000]}\n",
    "clflog = LogisticRegression(solver='lbfgs')\n",
    "clflog, Xtrain, ytrain, Xtest, ytest=do_classify(clflog, parameters, df, ['Height','Weight'],'Gender', \"Male\", mode=\"mask\", reuse_split=mask)"
   ]
  },
  {
   "cell_type": "markdown",
   "metadata": {},
   "source": [
    "In `sklearn`, `clf.predict(test_data)` makes predictions on the assumption that a 0.5 probability threshold is the appropriate thing to do. Make predictions on the test set"
   ]
  },
  {
   "cell_type": "code",
   "execution_count": 43,
   "metadata": {
    "collapsed": false
   },
   "outputs": [
    {
     "data": {
      "text/plain": [
       "array([0, 1, 1, 0, 0, 0, 1, 0, 0, 0, 0, 1, 0, 0, 1, 1, 1, 0, 1, 1, 0, 0,\n",
       "       0, 1, 0, 1, 0, 1, 1, 1, 0, 0, 1, 0, 1, 1, 1, 1, 1, 1, 0, 0, 0, 0,\n",
       "       0, 1, 1, 1, 1, 0, 0, 1, 0, 1, 0, 0, 0, 1, 1, 1, 1, 0, 1, 1, 0, 1,\n",
       "       1, 1, 1, 1, 1, 0, 1, 1, 1, 0, 1, 1, 0, 1, 1, 0, 1, 0, 0, 0, 1, 1,\n",
       "       0, 0, 0, 1, 1, 0, 1, 0, 1, 0, 0, 0, 0, 1, 1, 0, 1, 0, 0, 0, 0, 0,\n",
       "       1, 1, 0, 1, 0, 0, 1, 1, 1, 0, 0, 0, 1, 0, 0, 1, 0, 1, 0, 0, 1, 1,\n",
       "       0, 1, 1, 0, 1, 0, 1, 0, 0, 0, 0, 1, 1, 1, 0, 1, 1, 1, 1, 1, 0, 1,\n",
       "       0, 1, 0, 1, 1, 1, 0, 0, 0, 1, 0, 0, 0, 0, 1, 1, 1, 0, 0, 0, 1, 1,\n",
       "       1, 1, 0, 0, 1, 0, 1, 1, 1, 1, 1, 0, 0, 0, 0, 1, 0, 0, 1, 0, 1, 1,\n",
       "       0, 1, 1, 0, 1, 1, 0, 1, 0, 1, 1, 1, 0, 0, 1, 1, 1, 0, 1, 1, 0, 1,\n",
       "       1, 1, 1, 0, 0, 1, 0, 0, 0, 1, 1, 1, 0, 0, 1, 1, 1, 1, 1, 1, 0, 1,\n",
       "       0, 0, 0, 0, 0, 1, 0, 0, 1, 1, 0, 0, 1, 0, 1, 0, 0, 0, 1, 1, 1, 0,\n",
       "       1, 0, 0, 0, 1, 0, 1, 0, 1, 1, 0, 0, 1, 0, 1, 1, 0, 0, 0, 1, 1, 0,\n",
       "       0, 1, 1, 0, 1, 0, 0, 0, 1, 0, 1, 1, 1, 1, 0, 0, 1, 1, 0, 0, 0, 1,\n",
       "       1, 0, 0, 1, 0, 1, 1, 0, 0, 1, 1, 0, 1, 0, 0, 1, 1, 1, 0, 0, 0, 1,\n",
       "       1, 1, 0, 1, 0, 1, 0, 1, 1, 0, 0, 0, 1, 0, 1, 0, 0, 1, 0, 1, 0, 0,\n",
       "       0, 0, 1, 1, 0, 1, 0, 0, 1, 1, 1, 0, 1, 0, 1, 0, 0, 0, 0, 1, 1, 0,\n",
       "       0, 0, 1, 0, 1, 0, 0, 1, 0, 1, 0, 1, 1, 1, 0, 0, 0, 0, 0, 0, 1, 0,\n",
       "       1, 0, 1, 1])"
      ]
     },
     "execution_count": 43,
     "metadata": {},
     "output_type": "execute_result"
    }
   ],
   "source": [
    "# your code here\n",
    "clflog.predict(Xtest)"
   ]
  },
  {
   "cell_type": "markdown",
   "metadata": {},
   "source": [
    "In `sklearn`, `predict_proba` gives us the probabilities. Find the probabilities on the test set."
   ]
  },
  {
   "cell_type": "code",
   "execution_count": 44,
   "metadata": {
    "collapsed": false
   },
   "outputs": [
    {
     "data": {
      "text/plain": [
       "array([[9.82278903e-01, 1.77210970e-02],\n",
       "       [1.88024074e-02, 9.81197593e-01],\n",
       "       [7.79180858e-02, 9.22081914e-01],\n",
       "       [9.98803177e-01, 1.19682297e-03],\n",
       "       [9.45090168e-01, 5.49098319e-02],\n",
       "       [6.07310964e-01, 3.92689036e-01],\n",
       "       [7.60480623e-04, 9.99239519e-01],\n",
       "       [9.75039733e-01, 2.49602667e-02],\n",
       "       [8.58741646e-01, 1.41258354e-01],\n",
       "       [9.98721845e-01, 1.27815501e-03],\n",
       "       [8.29455572e-01, 1.70544428e-01],\n",
       "       [1.71988003e-03, 9.98280120e-01],\n",
       "       [8.25344417e-01, 1.74655583e-01],\n",
       "       [9.02139009e-01, 9.78609909e-02],\n",
       "       [7.72704302e-02, 9.22729570e-01],\n",
       "       [3.46932978e-01, 6.53067022e-01],\n",
       "       [2.85857579e-01, 7.14142421e-01],\n",
       "       [8.61815840e-01, 1.38184160e-01],\n",
       "       [4.16095875e-01, 5.83904125e-01],\n",
       "       [1.40360615e-02, 9.85963938e-01],\n",
       "       [9.99767711e-01, 2.32288863e-04],\n",
       "       [6.00672168e-01, 3.99327832e-01],\n",
       "       [7.92362846e-01, 2.07637154e-01],\n",
       "       [7.91180716e-03, 9.92088193e-01],\n",
       "       [9.99324033e-01, 6.75967383e-04],\n",
       "       [2.13095201e-02, 9.78690480e-01],\n",
       "       [7.32833316e-01, 2.67166684e-01],\n",
       "       [1.00669877e-01, 8.99330123e-01],\n",
       "       [2.74251008e-01, 7.25748992e-01],\n",
       "       [3.58605286e-01, 6.41394714e-01],\n",
       "       [5.07052863e-01, 4.92947137e-01],\n",
       "       [9.99010338e-01, 9.89662398e-04],\n",
       "       [1.58048704e-04, 9.99841951e-01],\n",
       "       [9.84914032e-01, 1.50859678e-02],\n",
       "       [3.51890323e-01, 6.48109677e-01],\n",
       "       [4.89089010e-03, 9.95109110e-01],\n",
       "       [4.02432657e-03, 9.95975673e-01],\n",
       "       [2.15135020e-02, 9.78486498e-01],\n",
       "       [2.87382845e-02, 9.71261715e-01],\n",
       "       [1.73599607e-02, 9.82640039e-01],\n",
       "       [8.55730127e-01, 1.44269873e-01],\n",
       "       [9.53298584e-01, 4.67014159e-02],\n",
       "       [6.64237442e-01, 3.35762558e-01],\n",
       "       [9.95976661e-01, 4.02333939e-03],\n",
       "       [9.31509050e-01, 6.84909503e-02],\n",
       "       [5.17858429e-03, 9.94821416e-01],\n",
       "       [4.73009360e-02, 9.52699064e-01],\n",
       "       [2.95246840e-01, 7.04753160e-01],\n",
       "       [3.86964521e-03, 9.96130355e-01],\n",
       "       [9.53706998e-01, 4.62930017e-02],\n",
       "       [8.47027141e-01, 1.52972859e-01],\n",
       "       [3.04661923e-03, 9.96953381e-01],\n",
       "       [8.90887536e-01, 1.09112464e-01],\n",
       "       [7.66526628e-02, 9.23347337e-01],\n",
       "       [8.68745064e-01, 1.31254936e-01],\n",
       "       [9.74575382e-01, 2.54246182e-02],\n",
       "       [8.31071003e-01, 1.68928997e-01],\n",
       "       [9.19436347e-03, 9.90805637e-01],\n",
       "       [1.87104793e-04, 9.99812895e-01],\n",
       "       [6.40061209e-02, 9.35993879e-01],\n",
       "       [2.03117947e-01, 7.96882053e-01],\n",
       "       [9.70917964e-01, 2.90820362e-02],\n",
       "       [1.96236919e-01, 8.03763081e-01],\n",
       "       [3.18341999e-01, 6.81658001e-01],\n",
       "       [9.40783568e-01, 5.92164325e-02],\n",
       "       [2.18211153e-02, 9.78178885e-01],\n",
       "       [1.74918003e-02, 9.82508200e-01],\n",
       "       [5.38729739e-02, 9.46127026e-01],\n",
       "       [4.03841696e-01, 5.96158304e-01],\n",
       "       [1.19329439e-01, 8.80670561e-01],\n",
       "       [3.26860362e-02, 9.67313964e-01],\n",
       "       [9.35640975e-01, 6.43590253e-02],\n",
       "       [3.23110317e-02, 9.67688968e-01],\n",
       "       [4.13978197e-02, 9.58602180e-01],\n",
       "       [1.81535408e-02, 9.81846459e-01],\n",
       "       [8.30161234e-01, 1.69838766e-01],\n",
       "       [3.99745767e-01, 6.00254233e-01],\n",
       "       [1.93753928e-03, 9.98062461e-01],\n",
       "       [9.98417261e-01, 1.58273858e-03],\n",
       "       [3.48663902e-03, 9.96513361e-01],\n",
       "       [1.42765499e-04, 9.99857235e-01],\n",
       "       [9.91288950e-01, 8.71104985e-03],\n",
       "       [9.50738913e-03, 9.90492611e-01],\n",
       "       [9.42306589e-01, 5.76934110e-02],\n",
       "       [9.98452485e-01, 1.54751463e-03],\n",
       "       [9.93213165e-01, 6.78683491e-03],\n",
       "       [8.22973828e-04, 9.99177026e-01],\n",
       "       [3.80876223e-02, 9.61912378e-01],\n",
       "       [9.89377784e-01, 1.06222159e-02],\n",
       "       [9.54904855e-01, 4.50951446e-02],\n",
       "       [8.36137582e-01, 1.63862418e-01],\n",
       "       [2.15172608e-01, 7.84827392e-01],\n",
       "       [1.61822167e-02, 9.83817783e-01],\n",
       "       [8.11229025e-01, 1.88770975e-01],\n",
       "       [6.76005589e-02, 9.32399441e-01],\n",
       "       [9.95806252e-01, 4.19374814e-03],\n",
       "       [3.41997682e-01, 6.58002318e-01],\n",
       "       [9.91181472e-01, 8.81852834e-03],\n",
       "       [7.20067882e-01, 2.79932118e-01],\n",
       "       [9.99707549e-01, 2.92450781e-04],\n",
       "       [9.84932367e-01, 1.50676335e-02],\n",
       "       [9.60151103e-02, 9.03984890e-01],\n",
       "       [2.82372094e-01, 7.17627906e-01],\n",
       "       [9.99742085e-01, 2.57915241e-04],\n",
       "       [9.84224989e-03, 9.90157750e-01],\n",
       "       [8.77685904e-01, 1.22314096e-01],\n",
       "       [9.91675658e-01, 8.32434199e-03],\n",
       "       [9.81324843e-01, 1.86751570e-02],\n",
       "       [9.99915979e-01, 8.40210027e-05],\n",
       "       [7.34045893e-01, 2.65954107e-01],\n",
       "       [5.14936762e-02, 9.48506324e-01],\n",
       "       [4.26695850e-01, 5.73304150e-01],\n",
       "       [9.99974855e-01, 2.51446531e-05],\n",
       "       [3.03994236e-01, 6.96005764e-01],\n",
       "       [9.20861726e-01, 7.91382744e-02],\n",
       "       [9.51233955e-01, 4.87660446e-02],\n",
       "       [2.50853517e-02, 9.74914648e-01],\n",
       "       [2.02809772e-02, 9.79719023e-01],\n",
       "       [2.76315569e-03, 9.97236844e-01],\n",
       "       [9.79759244e-01, 2.02407556e-02],\n",
       "       [7.69938833e-01, 2.30061167e-01],\n",
       "       [9.81156320e-01, 1.88436798e-02],\n",
       "       [3.28267242e-01, 6.71732758e-01],\n",
       "       [5.17065675e-01, 4.82934325e-01],\n",
       "       [7.17061838e-01, 2.82938162e-01],\n",
       "       [4.62479024e-03, 9.95375210e-01],\n",
       "       [9.61747533e-01, 3.82524667e-02],\n",
       "       [7.89046854e-03, 9.92109531e-01],\n",
       "       [9.91194248e-01, 8.80575161e-03],\n",
       "       [6.04201413e-01, 3.95798587e-01],\n",
       "       [3.47816233e-03, 9.96521838e-01],\n",
       "       [1.13241213e-02, 9.88675879e-01],\n",
       "       [9.71530279e-01, 2.84697210e-02],\n",
       "       [3.73549666e-01, 6.26450334e-01],\n",
       "       [9.19514268e-03, 9.90804857e-01],\n",
       "       [9.11740489e-01, 8.82595114e-02],\n",
       "       [1.46805987e-03, 9.98531940e-01],\n",
       "       [9.75212098e-01, 2.47879017e-02],\n",
       "       [2.67496734e-01, 7.32503266e-01],\n",
       "       [9.97793252e-01, 2.20674821e-03],\n",
       "       [9.57300060e-01, 4.26999402e-02],\n",
       "       [9.93916049e-01, 6.08395077e-03],\n",
       "       [9.99003264e-01, 9.96736442e-04],\n",
       "       [4.79973800e-04, 9.99520026e-01],\n",
       "       [6.15282978e-03, 9.93847170e-01],\n",
       "       [3.98917713e-02, 9.60108229e-01],\n",
       "       [8.17505763e-01, 1.82494237e-01],\n",
       "       [4.14008748e-02, 9.58599125e-01],\n",
       "       [3.44904927e-04, 9.99655095e-01],\n",
       "       [2.25931568e-02, 9.77406843e-01],\n",
       "       [1.41520185e-01, 8.58479815e-01],\n",
       "       [1.68886924e-01, 8.31113076e-01],\n",
       "       [6.07283576e-01, 3.92716424e-01],\n",
       "       [1.01330110e-01, 8.98669890e-01],\n",
       "       [9.40588200e-01, 5.94117998e-02],\n",
       "       [2.04709519e-02, 9.79529048e-01],\n",
       "       [6.85597731e-01, 3.14402269e-01],\n",
       "       [2.48475886e-03, 9.97515241e-01],\n",
       "       [2.30704633e-03, 9.97692954e-01],\n",
       "       [1.98368794e-01, 8.01631206e-01],\n",
       "       [9.99137224e-01, 8.62775588e-04],\n",
       "       [9.13837990e-01, 8.61620098e-02],\n",
       "       [9.92710992e-01, 7.28900791e-03],\n",
       "       [1.40652027e-02, 9.85934797e-01],\n",
       "       [9.90532551e-01, 9.46744909e-03],\n",
       "       [5.17773640e-01, 4.82226360e-01],\n",
       "       [9.71443536e-01, 2.85564636e-02],\n",
       "       [5.44195031e-01, 4.55804969e-01],\n",
       "       [5.43020823e-02, 9.45697918e-01],\n",
       "       [3.54172796e-02, 9.64582720e-01],\n",
       "       [1.01249787e-01, 8.98750213e-01],\n",
       "       [8.81310857e-01, 1.18689143e-01],\n",
       "       [9.98133023e-01, 1.86697724e-03],\n",
       "       [8.19297040e-01, 1.80702960e-01],\n",
       "       [7.05229495e-03, 9.92947705e-01],\n",
       "       [1.99467771e-02, 9.80053223e-01],\n",
       "       [7.83445259e-03, 9.92165547e-01],\n",
       "       [2.32612471e-03, 9.97673875e-01],\n",
       "       [9.92538402e-01, 7.46159796e-03],\n",
       "       [9.98051362e-01, 1.94863776e-03],\n",
       "       [4.78628201e-02, 9.52137180e-01],\n",
       "       [9.89457509e-01, 1.05424912e-02],\n",
       "       [2.19914649e-01, 7.80085351e-01],\n",
       "       [2.37582261e-02, 9.76241774e-01],\n",
       "       [2.55498679e-01, 7.44501321e-01],\n",
       "       [1.99161227e-03, 9.98008388e-01],\n",
       "       [4.36230165e-01, 5.63769835e-01],\n",
       "       [9.71800801e-01, 2.81991986e-02],\n",
       "       [9.36220235e-01, 6.37797652e-02],\n",
       "       [8.34304776e-01, 1.65695224e-01],\n",
       "       [9.80595913e-01, 1.94040867e-02],\n",
       "       [1.41300524e-01, 8.58699476e-01],\n",
       "       [9.40246514e-01, 5.97534856e-02],\n",
       "       [9.56107072e-01, 4.38929277e-02],\n",
       "       [7.40480870e-03, 9.92595191e-01],\n",
       "       [5.50201729e-01, 4.49798271e-01],\n",
       "       [3.12421020e-01, 6.87578980e-01],\n",
       "       [4.54217994e-01, 5.45782006e-01],\n",
       "       [9.64251434e-01, 3.57485664e-02],\n",
       "       [1.60347213e-01, 8.39652787e-01],\n",
       "       [1.13819911e-01, 8.86180089e-01],\n",
       "       [9.39319907e-01, 6.06800926e-02],\n",
       "       [4.59989986e-01, 5.40010014e-01],\n",
       "       [2.64462171e-03, 9.97355378e-01],\n",
       "       [8.71951037e-01, 1.28048963e-01],\n",
       "       [4.86839238e-01, 5.13160762e-01],\n",
       "       [9.99068049e-01, 9.31951073e-04],\n",
       "       [2.53672707e-01, 7.46327293e-01],\n",
       "       [6.87103718e-02, 9.31289628e-01],\n",
       "       [1.21161026e-01, 8.78838974e-01],\n",
       "       [9.93012159e-01, 6.98784057e-03],\n",
       "       [9.78348669e-01, 2.16513315e-02],\n",
       "       [8.63776007e-02, 9.13622399e-01],\n",
       "       [6.08517932e-03, 9.93914821e-01],\n",
       "       [1.63817874e-02, 9.83618213e-01],\n",
       "       [9.99489250e-01, 5.10750089e-04],\n",
       "       [1.49997468e-02, 9.85000253e-01],\n",
       "       [1.49292253e-01, 8.50707747e-01],\n",
       "       [9.53294178e-01, 4.67058225e-02],\n",
       "       [3.91180600e-03, 9.96088194e-01],\n",
       "       [6.46580439e-03, 9.93534196e-01],\n",
       "       [7.27781233e-05, 9.99927222e-01],\n",
       "       [2.71233358e-01, 7.28766642e-01],\n",
       "       [9.94027464e-01, 5.97253642e-03],\n",
       "       [9.99002771e-01, 9.97228994e-04],\n",
       "       [2.93749687e-01, 7.06250313e-01],\n",
       "       [9.95236200e-01, 4.76380014e-03],\n",
       "       [9.27948628e-01, 7.20513717e-02],\n",
       "       [9.84489944e-01, 1.55100564e-02],\n",
       "       [3.92542634e-03, 9.96074574e-01],\n",
       "       [8.54984558e-03, 9.91450154e-01],\n",
       "       [1.27022772e-01, 8.72977228e-01],\n",
       "       [9.92153357e-01, 7.84664297e-03],\n",
       "       [9.97201341e-01, 2.79865941e-03],\n",
       "       [3.96226792e-03, 9.96037732e-01],\n",
       "       [6.63054848e-03, 9.93369452e-01],\n",
       "       [4.79093757e-02, 9.52090624e-01],\n",
       "       [6.30862359e-02, 9.36913764e-01],\n",
       "       [1.09313317e-02, 9.89068668e-01],\n",
       "       [3.14160552e-01, 6.85839448e-01],\n",
       "       [9.69584330e-01, 3.04156703e-02],\n",
       "       [7.98569157e-02, 9.20143084e-01],\n",
       "       [5.84264624e-01, 4.15735376e-01],\n",
       "       [9.62619073e-01, 3.73809274e-02],\n",
       "       [9.98407156e-01, 1.59284351e-03],\n",
       "       [9.66995787e-01, 3.30042128e-02],\n",
       "       [9.76661831e-01, 2.33381693e-02],\n",
       "       [1.82259227e-01, 8.17740773e-01],\n",
       "       [9.32369027e-01, 6.76309733e-02],\n",
       "       [8.94676544e-01, 1.05323456e-01],\n",
       "       [2.11978902e-01, 7.88021098e-01],\n",
       "       [6.48110175e-02, 9.35188983e-01],\n",
       "       [9.64952346e-01, 3.50476536e-02],\n",
       "       [8.68031247e-01, 1.31968753e-01],\n",
       "       [1.90596268e-01, 8.09403732e-01],\n",
       "       [9.99179286e-01, 8.20713776e-04],\n",
       "       [1.01203527e-03, 9.98987965e-01],\n",
       "       [9.98832218e-01, 1.16778208e-03],\n",
       "       [9.90091482e-01, 9.90851837e-03],\n",
       "       [9.99807257e-01, 1.92742916e-04],\n",
       "       [2.64683731e-04, 9.99735316e-01],\n",
       "       [3.15513366e-03, 9.96844866e-01],\n",
       "       [1.31449861e-01, 8.68550139e-01],\n",
       "       [6.62440807e-01, 3.37559193e-01],\n",
       "       [5.68786173e-03, 9.94312138e-01],\n",
       "       [5.33337941e-01, 4.66662059e-01],\n",
       "       [8.87329712e-01, 1.12670288e-01],\n",
       "       [9.99183335e-01, 8.16665181e-04],\n",
       "       [1.36031010e-01, 8.63968990e-01],\n",
       "       [9.92727474e-01, 7.27252598e-03],\n",
       "       [8.92200857e-03, 9.91077991e-01],\n",
       "       [9.86192248e-01, 1.38077521e-02],\n",
       "       [5.85643204e-04, 9.99414357e-01],\n",
       "       [4.98459733e-03, 9.95015403e-01],\n",
       "       [9.66795709e-01, 3.32042907e-02],\n",
       "       [7.18946762e-01, 2.81053238e-01],\n",
       "       [5.64533581e-03, 9.94354664e-01],\n",
       "       [7.81517275e-01, 2.18482725e-01],\n",
       "       [8.63796509e-02, 9.13620349e-01],\n",
       "       [4.74084997e-01, 5.25915003e-01],\n",
       "       [9.95171567e-01, 4.82843328e-03],\n",
       "       [6.85596416e-01, 3.14403584e-01],\n",
       "       [9.89829228e-01, 1.01707719e-02],\n",
       "       [1.79590451e-03, 9.98204095e-01],\n",
       "       [1.71054844e-02, 9.82894516e-01],\n",
       "       [8.23226226e-01, 1.76773774e-01],\n",
       "       [9.42262715e-01, 5.77372848e-02],\n",
       "       [8.18373328e-02, 9.18162667e-01],\n",
       "       [4.11956260e-02, 9.58804374e-01],\n",
       "       [9.98828496e-01, 1.17150412e-03],\n",
       "       [4.27138277e-01, 5.72861723e-01],\n",
       "       [9.98870727e-01, 1.12927302e-03],\n",
       "       [9.50112800e-01, 4.98871997e-02],\n",
       "       [9.97835092e-01, 2.16490769e-03],\n",
       "       [2.91748786e-03, 9.97082512e-01],\n",
       "       [9.97694324e-01, 2.30567649e-03],\n",
       "       [4.00882732e-03, 9.95991173e-01],\n",
       "       [8.81534558e-02, 9.11846544e-01],\n",
       "       [2.39150012e-02, 9.76084999e-01],\n",
       "       [3.37451027e-03, 9.96625490e-01],\n",
       "       [5.46738493e-01, 4.53261507e-01],\n",
       "       [7.52054020e-01, 2.47945980e-01],\n",
       "       [6.62971926e-02, 9.33702807e-01],\n",
       "       [7.00731772e-02, 9.29926823e-01],\n",
       "       [5.65701119e-01, 4.34298881e-01],\n",
       "       [7.81639532e-01, 2.18360468e-01],\n",
       "       [9.40796746e-01, 5.92032543e-02],\n",
       "       [1.02222145e-02, 9.89777786e-01],\n",
       "       [4.81044371e-03, 9.95189556e-01],\n",
       "       [8.14206703e-01, 1.85793297e-01],\n",
       "       [5.99459161e-01, 4.00540839e-01],\n",
       "       [3.85302788e-01, 6.14697212e-01],\n",
       "       [9.15680376e-01, 8.43196244e-02],\n",
       "       [1.09664393e-03, 9.98903356e-01],\n",
       "       [1.82366532e-03, 9.98176335e-01],\n",
       "       [9.85973226e-01, 1.40267743e-02],\n",
       "       [9.98585195e-01, 1.41480453e-03],\n",
       "       [1.87188492e-01, 8.12811508e-01],\n",
       "       [9.17944383e-04, 9.99082056e-01],\n",
       "       [9.81005996e-01, 1.89940040e-02],\n",
       "       [7.76843133e-03, 9.92231569e-01],\n",
       "       [9.97339731e-01, 2.66026944e-03],\n",
       "       [5.19534826e-01, 4.80465174e-01],\n",
       "       [3.40003761e-02, 9.65999624e-01],\n",
       "       [3.63141997e-01, 6.36858003e-01],\n",
       "       [3.30714067e-01, 6.69285933e-01],\n",
       "       [9.97900698e-01, 2.09930163e-03],\n",
       "       [6.32411901e-01, 3.67588099e-01],\n",
       "       [9.97753818e-01, 2.24618167e-03],\n",
       "       [3.36434498e-01, 6.63565502e-01],\n",
       "       [4.64797485e-03, 9.95352025e-01],\n",
       "       [1.28634253e-03, 9.98713657e-01],\n",
       "       [9.86416525e-01, 1.35834746e-02],\n",
       "       [2.39506905e-02, 9.76049309e-01],\n",
       "       [8.25456525e-01, 1.74543475e-01],\n",
       "       [1.64461867e-02, 9.83553813e-01],\n",
       "       [9.96916764e-01, 3.08323554e-03],\n",
       "       [4.32417934e-02, 9.56758207e-01],\n",
       "       [2.91388531e-03, 9.97086115e-01],\n",
       "       [9.94976109e-01, 5.02389090e-03],\n",
       "       [9.99883971e-01, 1.16029327e-04],\n",
       "       [9.98935791e-01, 1.06420926e-03],\n",
       "       [2.64646667e-02, 9.73535333e-01],\n",
       "       [8.65498394e-01, 1.34501606e-01],\n",
       "       [1.27790080e-02, 9.87220992e-01],\n",
       "       [9.99824956e-01, 1.75044310e-04],\n",
       "       [9.95977789e-01, 4.02221141e-03],\n",
       "       [1.50087821e-02, 9.84991218e-01],\n",
       "       [9.86669655e-01, 1.33303449e-02],\n",
       "       [5.00150100e-04, 9.99499850e-01],\n",
       "       [8.20956120e-01, 1.79043880e-01],\n",
       "       [8.36996941e-01, 1.63003059e-01],\n",
       "       [9.96186394e-01, 3.81360637e-03],\n",
       "       [6.55204623e-01, 3.44795377e-01],\n",
       "       [8.42814992e-04, 9.99157185e-01],\n",
       "       [4.75499565e-01, 5.24500435e-01],\n",
       "       [9.99137877e-01, 8.62122531e-04],\n",
       "       [2.65613655e-02, 9.73438635e-01],\n",
       "       [9.41086074e-01, 5.89139263e-02],\n",
       "       [9.90017310e-01, 9.98269031e-03],\n",
       "       [8.80094996e-03, 9.91199050e-01],\n",
       "       [4.63186950e-02, 9.53681305e-01],\n",
       "       [5.13177586e-02, 9.48682241e-01],\n",
       "       [8.28530695e-01, 1.71469305e-01],\n",
       "       [6.79677897e-02, 9.32032210e-01],\n",
       "       [7.34545245e-01, 2.65454755e-01],\n",
       "       [1.61772966e-02, 9.83822703e-01],\n",
       "       [9.83143743e-01, 1.68562569e-02],\n",
       "       [7.77082819e-01, 2.22917181e-01],\n",
       "       [9.75409200e-01, 2.45908000e-02],\n",
       "       [6.74037795e-01, 3.25962205e-01],\n",
       "       [5.00979499e-03, 9.94990205e-01],\n",
       "       [9.93369135e-02, 9.00663086e-01],\n",
       "       [9.92027991e-01, 7.97200918e-03],\n",
       "       [9.75224247e-01, 2.47757535e-02],\n",
       "       [9.51384180e-01, 4.86158198e-02],\n",
       "       [3.01455420e-01, 6.98544580e-01],\n",
       "       [8.18218278e-01, 1.81781722e-01],\n",
       "       [4.06490549e-02, 9.59350945e-01],\n",
       "       [9.85349211e-01, 1.46507894e-02],\n",
       "       [9.40768600e-01, 5.92314003e-02],\n",
       "       [2.59074995e-02, 9.74092500e-01],\n",
       "       [8.05933243e-01, 1.94066757e-01],\n",
       "       [1.67450937e-03, 9.98325491e-01],\n",
       "       [9.99891173e-01, 1.08826610e-04],\n",
       "       [2.45860665e-03, 9.97541393e-01],\n",
       "       [5.38924390e-02, 9.46107561e-01],\n",
       "       [4.92744971e-03, 9.95072550e-01],\n",
       "       [9.99135350e-01, 8.64649891e-04],\n",
       "       [9.82961074e-01, 1.70389256e-02],\n",
       "       [8.48467620e-01, 1.51532380e-01],\n",
       "       [9.39361353e-01, 6.06386469e-02],\n",
       "       [5.59481587e-01, 4.40518413e-01],\n",
       "       [7.43794175e-01, 2.56205825e-01],\n",
       "       [3.36847696e-01, 6.63152304e-01],\n",
       "       [9.96067527e-01, 3.93247301e-03],\n",
       "       [1.05215784e-03, 9.98947842e-01],\n",
       "       [9.98113427e-01, 1.88657326e-03],\n",
       "       [7.26666695e-05, 9.99927333e-01],\n",
       "       [3.87769697e-01, 6.12230303e-01]])"
      ]
     },
     "execution_count": 44,
     "metadata": {},
     "output_type": "execute_result"
    }
   ],
   "source": [
    "clflog.predict_proba(Xtest)"
   ]
  },
  {
   "cell_type": "markdown",
   "metadata": {},
   "source": [
    "What do these probabilities correspond to? The second column (`[:,1]` in numpy parlance, google numpy indexing to understand the syntax) gives the probability that the sample is a 1 (or +ive), here Male.\n",
    "\n",
    "Make a histogram of these probabilities. Interpret them."
   ]
  },
  {
   "cell_type": "code",
   "execution_count": 52,
   "metadata": {
    "collapsed": false
   },
   "outputs": [
    {
     "data": {
      "text/plain": [
       "(array([201.,  31.,  27.,  16.,  12.,  12.,  17.,  17.,  40., 227.]),\n",
       " array([4.16788686e-05, 1.00033216e-01, 2.00024754e-01, 3.00016291e-01,\n",
       "        4.00007828e-01, 4.99999366e-01, 5.99990903e-01, 6.99982440e-01,\n",
       "        7.99973978e-01, 8.99965515e-01, 9.99957052e-01]),\n",
       " <a list of 10 Patch objects>)"
      ]
     },
     "execution_count": 52,
     "metadata": {},
     "output_type": "execute_result"
    },
    {
     "data": {
      "image/png": "[encoded data removed]",
      "text/plain": [
       "<Figure size 432x288 with 1 Axes>"
      ]
     },
     "metadata": {
      "needs_background": "light"
     },
     "output_type": "display_data"
    }
   ],
   "source": [
    "# your code here\n",
    "plt.hist(clflog.predict_proba(Xtrain)[:,0])"
   ]
  },
  {
   "cell_type": "markdown",
   "metadata": {},
   "source": [
    "Lots of sure females and sure males when you plot the probability of being a male. \n",
    "\n",
    "At this point you might want to see how this histogram looks in the 2 dimensional space of our predictors."
   ]
  },
  {
   "cell_type": "code",
   "execution_count": 47,
   "metadata": {
    "collapsed": false
   },
   "outputs": [
    {
     "data": {
      "image/png": "[encoded data removed]",
      "text/plain": [
       "<Figure size 432x288 with 1 Axes>"
      ]
     },
     "metadata": {
      "needs_background": "light"
     },
     "output_type": "display_data"
    }
   ],
   "source": [
    "Xtr=np.concatenate((Xtrain, Xtest))\n",
    "plt.figure()\n",
    "ax=plt.gca()\n",
    "with sns.plotting_context('poster'):\n",
    "    points_plot(ax, Xtrain, Xtest, ytrain, ytest, clflog);"
   ]
  },
  {
   "cell_type": "markdown",
   "metadata": {},
   "source": [
    "We can plot the probability contours: these are rather tight!"
   ]
  },
  {
   "cell_type": "code",
   "execution_count": 49,
   "metadata": {
    "collapsed": false
   },
   "outputs": [
    {
     "name": "stderr",
     "output_type": "stream",
     "text": [
      "/opt/conda/lib/python3.7/site-packages/matplotlib/contour.py:1000: UserWarning: The following kwargs were not used by contour: 'axes'\n",
      "  s)\n",
      "/opt/conda/lib/python3.7/site-packages/matplotlib/contour.py:1000: UserWarning: The following kwargs were not used by contour: 'axes'\n",
      "  s)\n"
     ]
    },
    {
     "data": {
      "image/png": "[encoded data removed]",
      "text/plain": [
       "<Figure size 432x288 with 1 Axes>"
      ]
     },
     "metadata": {
      "needs_background": "light"
     },
     "output_type": "display_data"
    }
   ],
   "source": [
    "plt.figure()\n",
    "ax=plt.gca()\n",
    "points_plot(ax, Xtrain, Xtest, ytrain, ytest, clflog, mesh=False, alpha=0.001);\n",
    "points_plot_prob(ax, Xtrain, Xtest, ytrain, ytest, clflog);"
   ]
  },
  {
   "cell_type": "markdown",
   "metadata": {},
   "source": [
    "The score function of the estimator is used to evaluate a parameter setting. These are the sklearn.metrics.accuracy_score for classification and sklearn.metrics.r2_score for regression. For some applications, other scoring functions are better suited (for example in unbalanced classification, the accuracy score is often uninformative). We can pass other scorers to `GridSearchCV`."
   ]
  },
  {
   "cell_type": "code",
   "execution_count": 50,
   "metadata": {
    "collapsed": false
   },
   "outputs": [
    {
     "data": {
      "text/plain": [
       "0.8925"
      ]
     },
     "execution_count": 50,
     "metadata": {},
     "output_type": "execute_result"
    }
   ],
   "source": [
    "clflog.score(Xtest, ytest)"
   ]
  },
  {
   "cell_type": "markdown",
   "metadata": {},
   "source": [
    "### Callibration\n",
    "\n",
    "(from description by Chris Beaumont in CS109)\n",
    "\n",
    "Probabilistic models  have the nice property that they compute probabilities of a particular classification -- the predict_proba and predict_log_proba methods  compute these probabilities.\n",
    "\n",
    "You should always assess whether these probabilities are calibrated -- that is, whether a prediction made with a confidence of x% is correct approximately x% of the time.\n",
    "\n",
    "Let's make a plot to assess model calibration. Schematically, we want something like this:\n",
    "\n",
    "![](http://i.imgur.com/ea5B6zr.png)"
   ]
  },
  {
   "cell_type": "code",
   "execution_count": 33,
   "metadata": {},
   "outputs": [],
   "source": [
    "from sklearn.metrics import brier_score_loss\n",
    "from sklearn.calibration import  calibration_curve\n",
    "\n",
    "prob_pos = clflog.predict_proba(Xtest)[:, 1]\n",
    "fraction_of_positives, mean_predicted_value = \\\n",
    "            calibration_curve(ytest, prob_pos, n_bins=10)\n",
    "clf_score = brier_score_loss(ytest, prob_pos, pos_label=ytest.max())"
   ]
  },
  {
   "cell_type": "code",
   "execution_count": 34,
   "metadata": {},
   "outputs": [],
   "source": [
    "fraction_of_positives, mean_predicted_value"
   ]
  },
  {
   "cell_type": "code",
   "execution_count": 35,
   "metadata": {},
   "outputs": [],
   "source": [
    "fig = plt.figure(figsize=(10, 10))\n",
    "ax1 = plt.subplot2grid((3, 1), (0, 0), rowspan=2)\n",
    "ax2 = plt.subplot2grid((3, 1), (2, 0))\n",
    "ax1.plot(mean_predicted_value, fraction_of_positives, \"s-\",\n",
    "         label=\"(%1.3f)\" % (clf_score))\n",
    "ax1.plot([0,1], [0,1], \"k--\")\n",
    "ax2.hist(prob_pos, range=(0, 1), bins=10, label=\"logistic\",\n",
    "         histtype=\"step\", lw=2)\n",
    "\n",
    "ax1.set_ylabel(\"Fraction of positives\")\n",
    "ax1.set_ylim([-0.05, 1.05])\n",
    "ax1.legend(loc=\"lower right\")\n",
    "ax1.set_title('Calibration plots  (reliability curve)')\n",
    "\n",
    "ax2.set_xlabel(\"Mean predicted value\")\n",
    "ax2.set_ylabel(\"Count\")\n",
    "ax2.legend(loc=\"upper center\", ncol=2)\n",
    "\n",
    "plt.tight_layout()"
   ]
  },
  {
   "cell_type": "markdown",
   "metadata": {},
   "source": [
    "## The confusion Matrix"
   ]
  },
  {
   "cell_type": "markdown",
   "metadata": {},
   "source": [
    " A classifier will get some samples right, and some wrong. Generally we see which ones it gets right and which ones it gets wrong on the test set. There,\n",
    "\n",
    "- the samples that are +ive and the classifier predicts as +ive are called True Positives (TP)\n",
    "- the samples that are -ive and the classifier predicts (wrongly) as +ive are called False Positives (FP)\n",
    "- the samples that are -ive and the classifier predicts as -ive are called True Negatives (TN)\n",
    "- the samples that are +ive and the classifier predicts as -ive are called False Negatives (FN)\n",
    "\n",
    "A classifier produces a confusion matrix from these which lookslike this:\n",
    "\n",
    "![hwimages](./images/confusionmatrix.png)\n",
    "\n",
    "\n",
    "IMPORTANT NOTE: In sklearn, to obtain the confusion matrix in the form above, always have the observed `y` first, i.e.: use as `confusion_matrix(y_true, y_pred)`"
   ]
  },
  {
   "cell_type": "code",
   "execution_count": 53,
   "metadata": {
    "collapsed": false
   },
   "outputs": [
    {
     "data": {
      "text/plain": [
       "array([[177,  21],\n",
       "       [ 22, 180]])"
      ]
     },
     "execution_count": 53,
     "metadata": {},
     "output_type": "execute_result"
    }
   ],
   "source": [
    "confusion_matrix(ytest, clflog.predict(Xtest))"
   ]
  },
  {
   "cell_type": "markdown",
   "metadata": {},
   "source": [
    "Given these definitions, we typically calculate a few metrics for our classifier. First, the **True Positive Rate**:\n",
    "\n",
    "$$TPR = Recall = \\frac{TP}{OP} = \\frac{TP}{TP+FN},$$\n",
    "\n",
    "also called the Hit Rate: the fraction of observed positives (1s) the classifier gets right, or how many true positives were recalled. Maximizing the recall towards 1 means keeping down the false negative rate. In a classifier try to find cancer patients, this is the number we want to maximize.\n",
    "\n",
    "The **False Positive Rate** is defined as\n",
    "\n",
    "$$FPR = \\frac{FP}{ON} = \\frac{FP}{FP+TN},$$\n",
    "\n",
    "also called the False Alarm Rate, the fraction of observed negatives (0s) the classifier gets wrong. In general, you want this number to be low. Instead, you might want to maximize the\n",
    "**Precision**,which tells you how many of the predicted positive(1) hits were truly positive\n",
    "\n",
    "$$Precision = \\frac{TP}{PP} = \\frac{TP}{TP+FP}.$$\n",
    "\n",
    "Finally the **F1** score gives us the Harmonic Score of Precision and Recall. Many analysts will try and find a classifier that maximizes this score, since it tries to minimize both false positives and false negatives simultaneously, and is thus a bit more precise in what it is trying to do than the accuracy.\n",
    "\n",
    "$$F1 =  \\frac{2*Recall*Precision}{Recall + Precision}$$\n",
    "\n",
    "However, in a case like that of a cancer classifier, we will wish to minimize false nagatives at the expense of false positives: it is ok to send perfectly healthy patients for cancer folloup if that is the price we must pay for not missing any sick ones.\n",
    "\n",
    "`scikit-learn` helpfully gives us a classification report with all these numbers"
   ]
  },
  {
   "cell_type": "code",
   "execution_count": 55,
   "metadata": {
    "collapsed": false
   },
   "outputs": [
    {
     "name": "stdout",
     "output_type": "stream",
     "text": [
      "              precision    recall  f1-score   support\n",
      "\n",
      "           0       0.89      0.89      0.89       198\n",
      "           1       0.90      0.89      0.89       202\n",
      "\n",
      "   micro avg       0.89      0.89      0.89       400\n",
      "   macro avg       0.89      0.89      0.89       400\n",
      "weighted avg       0.89      0.89      0.89       400\n",
      "\n"
     ]
    }
   ],
   "source": [
    "from sklearn.metrics import classification_report\n",
    "print(classification_report(ytest, clflog.predict(Xtest)))"
   ]
  },
  {
   "cell_type": "markdown",
   "metadata": {},
   "source": [
    "#### The cancer doctor\n",
    "\n",
    "Do you really want to be setting a threshold of 0.5 probability to predict if a patient has cancer or not? The false negative problem: ie the chance you predict someone dosent have cancer who has cancer is much higher for such a threshold. You could kill someone by telling them not to get a biopsy. Why not play it safe and assume a much lower threshold: for eg, if the probability of 1(cancer) is greater than 0.05, we'll call it a 1.\n",
    "\n",
    "Write a function `t_repredict(est,t, Xtest)` which takes your classifier, a probability threshold, and a  features set in the canonical form, and returns a set of predictions."
   ]
  },
  {
   "cell_type": "code",
   "execution_count": 59,
   "metadata": {
    "collapsed": true
   },
   "outputs": [],
   "source": [
    "# your code here\n",
    "def t_repredict(est,t, Xtest):\n",
    "    probs=est.predict_proba(Xtest)\n",
    "    p0 = probs[:,0]\n",
    "    p1 = probs[:,1]\n",
    "    ypred = (p1 >= t)*1\n",
    "    return ypred"
   ]
  },
  {
   "cell_type": "code",
   "execution_count": 63,
   "metadata": {},
   "outputs": [
    {
     "data": {
      "text/plain": [
       "array([[177,  21],\n",
       "       [ 22, 180]])"
      ]
     },
     "execution_count": 63,
     "metadata": {},
     "output_type": "execute_result"
    }
   ],
   "source": [
    "confusion_matrix(ytest, t_repredict(clflog, 0.5, Xtest))"
   ]
  },
  {
   "cell_type": "markdown",
   "metadata": {},
   "source": [
    "Print the confusion matrix to see how the false negatives get suppressed?"
   ]
  },
  {
   "cell_type": "code",
   "execution_count": 61,
   "metadata": {
    "collapsed": false
   },
   "outputs": [
    {
     "data": {
      "text/plain": [
       "array([[194,   4],\n",
       "       [ 65, 137]])"
      ]
     },
     "execution_count": 61,
     "metadata": {},
     "output_type": "execute_result"
    }
   ],
   "source": [
    "# your code here\n",
    "confusion_matrix(ytest, t_repredict(clflog, 0.9, Xtest))\n"
   ]
  },
  {
   "cell_type": "markdown",
   "metadata": {},
   "source": [
    "## ROC Curve\n",
    "\n",
    "The images in this section are from Provost, Foster; Fawcett, Tom (2013-07-27). Data Science for Business: What you need to know about data mining and data-analytic thinking  O'Reilly Media. Great book!\n",
    "\n",
    "We can check on the thresholds we talked about in the previous section and compare our classifiers to each other and the baseline models using the ROC curves you learned about in class. \n",
    "\n",
    "Remember that ROC curves are actually a set of classifiers, in which we move the threshold for classifying a sample as positive from 1 to 0. Each point on a ROC curve is a separate classifier obtained by considering a different threshold. (In the standard scenario, where we used the  classifier accuracy, this threshold is implicitly set at 0.5, and we have only one classifier).\n",
    "\n",
    "![m:roc curve](images/roc-curve.png)\n",
    "\n",
    "The way ROC curves are calulated is this. We start with a large threshold, something like 0.99 or so. This means that only samples with a probability of being positive higher than that threshold are classified as positive. That is the really really really positive ones! The idea then is to decrease this threshold, such that more and more samples get classified as positive.\n",
    "\n",
    "![howto roc](images/howtoroc.png)\n",
    "\n",
    "The practical way to do this is to order the samples by probability of being positive, or in the case of the SVM, by the `decision_function` or distance from the separating hyperplane. Then consider the sample with the highest score or highest probability of being positive. At first, only this sample is positive. Then, we take the sample with the next highest score, and call it positive. As we go down the list, we go down a threshold in score or probability. \n",
    "\n",
    "Now, for each such situation: only 1 positive, now 2 positive,....you can imagine a different classifier with a different confusion matrix. It will have its own false positives, tre positives, etc. Its actually the same original classifier, but with a different threshold each time.\n",
    "\n",
    "As we keep going down the list, decreasing the threshold, more and more samples become positive, and at first, the true positives rise faster than the false positives. Once past a certain point, false positives increase faster than true positives. Now, if you want a balanced classifier, you look at this turn-around point...the northwest corner, so to speak. But if you want a classifier which penalizes false positives and false negatives differently, the point you want is different.\n",
    "\n",
    "Here is the confusion matrix again:\n",
    "\n",
    "![hwimages](./images/confusionmatrix.png)\n",
    "\n",
    "\n",
    "To make a ROC curve you plot the True Positive Rate, \n",
    "\n",
    "$$TPR=\\frac{TP}{OP}$$\n",
    "\n",
    "against the False Positive Rate,\n",
    "\n",
    "$$FPR=\\frac{FP}{ON}$$\n",
    "\n",
    "as you go through this process of going down the list of samples. ROC curves are useful because they calculate one classifier per threshold and show you where you are in TPR/FPR space without making any assumptions about the utility matrix or which threshold is appropriate.\n",
    "\n",
    "Notice that the ROC curve has a very interesting property: if you look at the confusion matrix above, TPR is only calculated from the observed \"1\" row while FPR is calculated from the observed '0' row. This means that the ROC curve is independent of the class balance/imbalance on the test set, and thus works for all ratios of positive to negative samples. The balance picks a point on the curve, as you can read below.\n",
    "\n",
    "A rote reading of the ROC curve (go to the \"northwest\" corner) is a bad idea: you must fold in the curve with any assumptions you are making about costs. More on this in the next lab. Still, on the whole, a curve with a greater AUC (area under curve), or further away from the line of randomness, will give us a rough idea of what might be a better classifier.\n",
    "\n"
   ]
  },
  {
   "cell_type": "code",
   "execution_count": 37,
   "metadata": {},
   "outputs": [],
   "source": [
    "def make_roc(name, clf, ytest, xtest, ax=None, labe=5, proba=True, skip=0):\n",
    "    initial=False\n",
    "    if not ax:\n",
    "        ax=plt.gca()\n",
    "        initial=True\n",
    "    if proba:\n",
    "        fpr, tpr, thresholds=roc_curve(ytest, clf.predict_proba(xtest)[:,1])\n",
    "    else:\n",
    "        fpr, tpr, thresholds=roc_curve(ytest, clf.decision_function(xtest))\n",
    "    roc_auc = auc(fpr, tpr)\n",
    "    if skip:\n",
    "        l=fpr.shape[0]\n",
    "        ax.plot(fpr[0:l:skip], tpr[0:l:skip], '.-', alpha=0.3, label='ROC curve for %s (area = %0.2f)' % (name, roc_auc))\n",
    "    else:\n",
    "        ax.plot(fpr, tpr, '.-', alpha=0.3, label='ROC curve for %s (area = %0.2f)' % (name, roc_auc))\n",
    "    label_kwargs = {}\n",
    "    label_kwargs['bbox'] = dict(\n",
    "        boxstyle='round,pad=0.3', alpha=0.2,\n",
    "    )\n",
    "    for k in range(0, fpr.shape[0],labe):\n",
    "        #from https://gist.github.com/podshumok/c1d1c9394335d86255b8\n",
    "        threshold = str(np.round(thresholds[k], 2))\n",
    "        ax.annotate(threshold, (fpr[k], tpr[k]), **label_kwargs)\n",
    "    if initial:\n",
    "        ax.plot([0, 1], [0, 1], 'k--')\n",
    "        ax.set_xlim([0.0, 1.0])\n",
    "        ax.set_ylim([0.0, 1.05])\n",
    "        ax.set_xlabel('False Positive Rate')\n",
    "        ax.set_ylabel('True Positive Rate')\n",
    "        ax.set_title('ROC')\n",
    "    ax.legend(loc=\"lower right\")\n",
    "    return ax"
   ]
  },
  {
   "cell_type": "code",
   "execution_count": 38,
   "metadata": {},
   "outputs": [],
   "source": [
    "with sns.plotting_context('poster'):\n",
    "    from sklearn.metrics import roc_curve, auc\n",
    "    ax=make_roc(\"logistic\", clflog, ytest, Xtest, labe=6)"
   ]
  },
  {
   "cell_type": "markdown",
   "metadata": {},
   "source": [
    "## Decision Making\n",
    "\n",
    "So far we have just been reporting accuracies. But as in the cancer doctor case, many a time we'll actually want to use a classifier to make decisions.\n",
    "\n",
    "The accuracy itself is NOT the loss that went into estimating the parameters of the model in the logistic regression. We are only using it as an **estimation loss** or a **evaluation metric**. \n",
    "\n",
    "The loss correponding to the accuracy metric is:\n",
    "\n",
    "The 1-0 loss:\n",
    "\n",
    "$$l = \\mathbf{1}_{h \\ne y}.$$\n",
    "\n",
    "where $h$ is the classification **decision** we make (for regression we used $l = (h-y)^2$). The symbol $\\mathbf{1}$ means that if $h$ is not equal to the \"true\" value of the point $y$, penalize by 1. Then the risk is:\n",
    "\n",
    "$$ R_{\\cal{D}}(h(x)) = \\frac{1}{N} \\sum_{y_i \\in \\cal{D}} l = \\frac{1}{N} \\sum_{y_i \\in \\cal{D}} \\mathbf{1}_{h \\ne y_i} $$\n",
    "\n",
    "Thus if 5 out of 50 samples are misclassified, then the risk is 0.1. This of course means that 90% of the samples are correctly classified. This number is called the **accuracy score** or **utility**:\n",
    "\n",
    "$$ U_{\\cal{D}}(h(x))  = \\frac{1}{N} \\sum_{y_i \\in \\cal{D}} \\mathbf{1}_{h = y_i} $$\n",
    "\n",
    "`sklearn` allows us to use another scorer by choosing an appropriate scoring function in our cross-validation metric."
   ]
  }
 ],
 "metadata": {
  "kernelspec": {
   "display_name": "Python 3",
   "language": "python",
   "name": "python3"
  },
  "language_info": {
   "codemirror_mode": {
    "name": "ipython",
    "version": 3
   },
   "file_extension": ".py",
   "mimetype": "text/x-python",
   "name": "python",
   "nbconvert_exporter": "python",
   "pygments_lexer": "ipython3",
   "version": "3.7.3"
  }
 },
 "nbformat": 4,
 "nbformat_minor": 2
}
